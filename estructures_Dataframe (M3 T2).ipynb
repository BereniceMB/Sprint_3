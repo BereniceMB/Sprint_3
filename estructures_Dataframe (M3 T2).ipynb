{
 "cells": [
  {
   "cell_type": "markdown",
   "id": "6c5dfebc",
   "metadata": {},
   "source": [
    "## <span style=color:red><b>Tasca M3 T02</b></span> \n",
    "### <span style=color:red><b>Descripció:</b></span> \n",
    "Exercicis amb Dataframes.\n",
    "\n",
    "\n",
    "_Enviar l'URL a un repositori anomenat estructures_Dataframe que contingui la solució. S'ha d'entregar cada exercici en un mateix fitxer i en un repositori._\n",
    "\n",
    "- [X] <span style=color:red><b>__Exercici 1:__</b></span> \n",
    "Descarrega el data set Airlines Delay: Airline on-time statistics and delay causes i carrega’l a un Pandas Dataframe. Explora les dades que conté, explica breument quines variables hi ha i queda’t únicament amb les columnes que consideris rellevants. Justifica la teva elecció.\n",
    "- [__Airlines Delay: Airline on-time statistics and delay causes__](https://www.kaggle.com/giovamata/airlinedelaycauses)\n",
    "\n",
    "__Important:__ Redueix la dimensió del dataset de manera aleatòria per tal d'obtenir un dataset de només 200.000 registres. Tots els exercicis s'han de fer amb aquest dataset reduït.\n"
   ]
  },
  {
   "cell_type": "code",
   "execution_count": 258,
   "id": "0dedaf05",
   "metadata": {},
   "outputs": [
    {
     "name": "stdout",
     "output_type": "stream",
     "text": [
      "<class 'pandas.core.frame.DataFrame'>\n",
      "RangeIndex: 1936758 entries, 0 to 1936757\n",
      "Data columns (total 30 columns):\n",
      " #   Column             Dtype  \n",
      "---  ------             -----  \n",
      " 0   Unnamed: 0         int64  \n",
      " 1   Year               int64  \n",
      " 2   Month              int64  \n",
      " 3   DayofMonth         int64  \n",
      " 4   DayOfWeek          int64  \n",
      " 5   DepTime            float64\n",
      " 6   CRSDepTime         int64  \n",
      " 7   ArrTime            float64\n",
      " 8   CRSArrTime         int64  \n",
      " 9   UniqueCarrier      object \n",
      " 10  FlightNum          int64  \n",
      " 11  TailNum            object \n",
      " 12  ActualElapsedTime  float64\n",
      " 13  CRSElapsedTime     float64\n",
      " 14  AirTime            float64\n",
      " 15  ArrDelay           float64\n",
      " 16  DepDelay           float64\n",
      " 17  Origin             object \n",
      " 18  Dest               object \n",
      " 19  Distance           int64  \n",
      " 20  TaxiIn             float64\n",
      " 21  TaxiOut            float64\n",
      " 22  Cancelled          int64  \n",
      " 23  CancellationCode   object \n",
      " 24  Diverted           int64  \n",
      " 25  CarrierDelay       float64\n",
      " 26  WeatherDelay       float64\n",
      " 27  NASDelay           float64\n",
      " 28  SecurityDelay      float64\n",
      " 29  LateAircraftDelay  float64\n",
      "dtypes: float64(14), int64(11), object(5)\n",
      "memory usage: 443.3+ MB\n",
      "   Unnamed: 0  Year  Month  DayofMonth  DayOfWeek  DepTime  CRSDepTime  \\\n",
      "0           0  2008      1           3          4   2003.0        1955   \n",
      "1           1  2008      1           3          4    754.0         735   \n",
      "2           2  2008      1           3          4    628.0         620   \n",
      "3           4  2008      1           3          4   1829.0        1755   \n",
      "4           5  2008      1           3          4   1940.0        1915   \n",
      "\n",
      "   ArrTime  CRSArrTime UniqueCarrier  ...  TaxiIn TaxiOut  Cancelled  \\\n",
      "0   2211.0        2225            WN  ...     4.0     8.0          0   \n",
      "1   1002.0        1000            WN  ...     5.0    10.0          0   \n",
      "2    804.0         750            WN  ...     3.0    17.0          0   \n",
      "3   1959.0        1925            WN  ...     3.0    10.0          0   \n",
      "4   2121.0        2110            WN  ...     4.0    10.0          0   \n",
      "\n",
      "   CancellationCode  Diverted  CarrierDelay  WeatherDelay NASDelay  \\\n",
      "0                 N         0           NaN           NaN      NaN   \n",
      "1                 N         0           NaN           NaN      NaN   \n",
      "2                 N         0           NaN           NaN      NaN   \n",
      "3                 N         0           2.0           0.0      0.0   \n",
      "4                 N         0           NaN           NaN      NaN   \n",
      "\n",
      "  SecurityDelay  LateAircraftDelay  \n",
      "0           NaN                NaN  \n",
      "1           NaN                NaN  \n",
      "2           NaN                NaN  \n",
      "3           0.0               32.0  \n",
      "4           NaN                NaN  \n",
      "\n",
      "[5 rows x 30 columns]\n",
      "         Unnamed: 0  Year  Month  DayofMonth  DayOfWeek  DepTime  CRSDepTime  \\\n",
      "1936753     7009710  2008     12          13          6   1250.0        1220   \n",
      "1936754     7009717  2008     12          13          6    657.0         600   \n",
      "1936755     7009718  2008     12          13          6   1007.0         847   \n",
      "1936756     7009726  2008     12          13          6   1251.0        1240   \n",
      "1936757     7009727  2008     12          13          6   1110.0        1103   \n",
      "\n",
      "         ArrTime  CRSArrTime UniqueCarrier  ...  TaxiIn TaxiOut  Cancelled  \\\n",
      "1936753   1617.0        1552            DL  ...     9.0    18.0          0   \n",
      "1936754    904.0         749            DL  ...    15.0    34.0          0   \n",
      "1936755   1149.0        1010            DL  ...     8.0    32.0          0   \n",
      "1936756   1446.0        1437            DL  ...    13.0    13.0          0   \n",
      "1936757   1413.0        1418            DL  ...     8.0    11.0          0   \n",
      "\n",
      "         CancellationCode  Diverted  CarrierDelay  WeatherDelay NASDelay  \\\n",
      "1936753                 N         0           3.0           0.0      0.0   \n",
      "1936754                 N         0           0.0          57.0     18.0   \n",
      "1936755                 N         0           1.0           0.0     19.0   \n",
      "1936756                 N         0           NaN           NaN      NaN   \n",
      "1936757                 N         0           NaN           NaN      NaN   \n",
      "\n",
      "        SecurityDelay  LateAircraftDelay  \n",
      "1936753           0.0               22.0  \n",
      "1936754           0.0                0.0  \n",
      "1936755           0.0               79.0  \n",
      "1936756           NaN                NaN  \n",
      "1936757           NaN                NaN  \n",
      "\n",
      "[5 rows x 30 columns]\n"
     ]
    }
   ],
   "source": [
    "import pandas as pd\n",
    "#importo de una vez numpy porque también lo usaré después\n",
    "import numpy as np\n",
    "\n",
    "data_base = pd.read_csv('DelayedFlights.csv')\n",
    "\n",
    "# Usamos primero .info(), .head() y .tail() para conocer un poco sobre nuestra base de datos\n",
    "data_base.info()\n",
    "print(data_base.head())\n",
    "print(data_base.tail())"
   ]
  },
  {
   "cell_type": "code",
   "execution_count": 259,
   "id": "6fde2930",
   "metadata": {},
   "outputs": [],
   "source": [
    "# Luego de imprimir esto decidí con qué columnas quedarme:\n",
    "data_base_1 = data_base[['UniqueCarrier','Month', 'DepTime','CRSDepTime','ArrTime','CRSArrTime', 'FlightNum','ActualElapsedTime','CRSElapsedTime', 'AirTime','ArrDelay', 'DepDelay','Origin', 'Dest', 'Distance', 'Cancelled', 'Diverted', 'CarrierDelay','WeatherDelay', 'NASDelay', 'SecurityDelay', 'LateAircraftDelay']].copy()\n"
   ]
  },
  {
   "cell_type": "markdown",
   "id": "520bf303",
   "metadata": {},
   "source": [
    "\n",
    "- [X] <span style=color:red><b>__Exercici 2:__</b></span>\n",
    "Fes un informe complet del dataset:\n",
    "    - Resumeix estadísticament el dataset i les columnes d’interès. Fes una anàlisi estadístic del que consideris rellevant.\n",
    "    - Troba quantes dades faltants hi ha per columna.\n",
    "    - Crea columnes noves (velocitat mitjana del vol, si ha arribat tard o no...).\n",
    "    - Fes una taula de les aerolínies amb més endarreriments acumulats.\n",
    "    - Quins són els vols més llargs? I els més endarrerits? Busca les rutes més llargues i les que acumulen més retards.\n",
    "    - Aporta allò que consideris rellevant."
   ]
  },
  {
   "cell_type": "code",
   "execution_count": 260,
   "id": "dad456fc",
   "metadata": {},
   "outputs": [
    {
     "name": "stdout",
     "output_type": "stream",
     "text": [
      "Missing Values count:\n"
     ]
    },
    {
     "data": {
      "text/plain": [
       "UniqueCarrier             0\n",
       "Month                     0\n",
       "DepTime                   0\n",
       "CRSDepTime                0\n",
       "ArrTime                7110\n",
       "CRSArrTime                0\n",
       "FlightNum                 0\n",
       "ActualElapsedTime      8387\n",
       "CRSElapsedTime          198\n",
       "AirTime                8387\n",
       "ArrDelay               8387\n",
       "DepDelay                  0\n",
       "Origin                    0\n",
       "Dest                      0\n",
       "Distance                  0\n",
       "Cancelled                 0\n",
       "Diverted                  0\n",
       "CarrierDelay         689270\n",
       "WeatherDelay         689270\n",
       "NASDelay             689270\n",
       "SecurityDelay        689270\n",
       "LateAircraftDelay    689270\n",
       "dtype: int64"
      ]
     },
     "execution_count": 260,
     "metadata": {},
     "output_type": "execute_result"
    }
   ],
   "source": [
    "#Hacemos lo siguiente para conocer cuántos datos faltantes se tienen\n",
    "missing_values_count = data_base_1.isnull().sum()\n",
    "print('Missing Values count:')\n",
    "missing_values_count"
   ]
  },
  {
   "cell_type": "code",
   "execution_count": 261,
   "id": "1090a4b7",
   "metadata": {},
   "outputs": [],
   "source": [
    "#Con base en lo anterior decidí también eliminar las 5 últimas columnas.\n",
    "data_base_1 = data_base[['UniqueCarrier','Month', 'DepTime','CRSDepTime','ArrTime','CRSArrTime', 'FlightNum','ActualElapsedTime','CRSElapsedTime', 'AirTime','ArrDelay', 'DepDelay','Origin', 'Dest', 'Distance', 'Cancelled', 'Diverted']].copy()\n",
    "\n",
    "# Ahora, hacemos lo siguiente para eliminar las filas\n",
    "# que contengan datos faltantes por si nos interesa más tarde:\n",
    "data_base_1_clean=data_base_1.dropna()\n"
   ]
  },
  {
   "cell_type": "code",
   "execution_count": 262,
   "id": "8a658170",
   "metadata": {},
   "outputs": [
    {
     "name": "stdout",
     "output_type": "stream",
     "text": [
      "Flight Time in minutes\n",
      "count    1.928371e+06\n",
      "mean     1.082771e+02\n",
      "std      6.864261e+01\n",
      "min      0.000000e+00\n",
      "25%      5.800000e+01\n",
      "50%      9.000000e+01\n",
      "75%      1.370000e+02\n",
      "max      1.091000e+03\n",
      "Name: AirTime, dtype: float64\n",
      "45.0     18374\n",
      "46.0     18084\n",
      "52.0     18052\n",
      "44.0     18019\n",
      "53.0     17995\n",
      "         ...  \n",
      "632.0        1\n",
      "639.0        1\n",
      "652.0        1\n",
      "655.0        1\n",
      "585.0        1\n",
      "Name: AirTime, Length: 650, dtype: int64\n",
      "\n",
      "\n",
      "Origin Airport (origin IATA airport code)\n",
      "count     1936758\n",
      "unique        303\n",
      "top           ATL\n",
      "freq       131613\n",
      "Name: Origin, dtype: object\n",
      "ATL    131613\n",
      "ORD    125979\n",
      "DFW     95414\n",
      "DEN     74323\n",
      "LAX     58772\n",
      "        ...  \n",
      "BJI         4\n",
      "PIR         3\n",
      "PUB         2\n",
      "INL         1\n",
      "TUP         1\n",
      "Name: Origin, Length: 303, dtype: int64\n",
      "\n",
      "\n",
      "Destination Airport (origin IATA airport code)\n",
      "count     1936758\n",
      "unique        304\n",
      "top           ORD\n",
      "freq       108984\n",
      "Name: Dest, dtype: object\n",
      "ORD    108984\n",
      "ATL    106898\n",
      "DFW     70657\n",
      "DEN     63003\n",
      "LAX     59969\n",
      "        ...  \n",
      "INL         9\n",
      "PIR         3\n",
      "CYS         1\n",
      "TUP         1\n",
      "OGD         1\n",
      "Name: Dest, Length: 304, dtype: int64\n",
      "\n",
      "\n",
      "Distance between airports (miles)\n",
      "count    1.936758e+06\n",
      "mean     7.656862e+02\n",
      "std      5.744797e+02\n",
      "min      1.100000e+01\n",
      "25%      3.380000e+02\n",
      "50%      6.060000e+02\n",
      "75%      9.980000e+02\n",
      "max      4.962000e+03\n",
      "Name: Distance, dtype: float64\n",
      "337    13182\n",
      "733     8720\n",
      "761     8700\n",
      "296     8652\n",
      "403     8623\n",
      "       ...  \n",
      "75         1\n",
      "905        1\n",
      "746        1\n",
      "111        1\n",
      "99         1\n",
      "Name: Distance, Length: 1419, dtype: int64\n"
     ]
    }
   ],
   "source": [
    "# Aquí podemos ver un análisis de los datos obtenidos sobre el tiempo en el aire,\n",
    "# las ciudades de origen y de destino, y la distancia total del vuelo\n",
    "print('Flight Time in minutes')\n",
    "print(data_base_1['AirTime'].describe())\n",
    "print(data_base_1['AirTime'].value_counts())\n",
    "print('\\n')\n",
    "print('Origin Airport (origin IATA airport code)')\n",
    "print(data_base_1['Origin'].describe())\n",
    "print(data_base_1['Origin'].value_counts())\n",
    "print('\\n')\n",
    "print('Destination Airport (origin IATA airport code)')\n",
    "print(data_base_1['Dest'].describe())\n",
    "print(data_base_1['Dest'].value_counts())\n",
    "print('\\n')\n",
    "print('Distance between airports (miles)')\n",
    "print(data_base_1['Distance'].describe())\n",
    "print(data_base_1['Distance'].value_counts())"
   ]
  },
  {
   "cell_type": "code",
   "execution_count": 263,
   "id": "c4532930",
   "metadata": {},
   "outputs": [
    {
     "name": "stdout",
     "output_type": "stream",
     "text": [
      "Con la siguiente lista podemos analizar cuáles son los vuelos que recorren la mayor distancia: \n",
      "FlightNum\n",
      "14      4962\n",
      "15      4962\n",
      "1561    4502\n",
      "1560    4502\n",
      "850     4502\n",
      "        ... \n",
      "7391      94\n",
      "6188      67\n",
      "6062      67\n",
      "6916      64\n",
      "9002      30\n",
      "Name: Distance, Length: 7499, dtype: int64\n",
      "\n",
      "\n",
      "Aquí podemos saber cuántos vuelos alcanzan la mayor distancia: \n",
      "15    266\n",
      "14     58\n",
      "Name: FlightNum, dtype: int64\n",
      "\n",
      "\n",
      "Con la siguiente lista podemos analizar cuáles son los vuelos que duran más tiempo: \n",
      "FlightNum\n",
      "21      1091.0\n",
      "28       733.0\n",
      "15       664.0\n",
      "851      609.0\n",
      "1273     607.0\n",
      "         ...  \n",
      "7450      26.0\n",
      "6916      23.0\n",
      "9002      19.0\n",
      "6188      18.0\n",
      "9742       NaN\n",
      "Name: AirTime, Length: 7499, dtype: float64\n",
      "\n",
      "\n",
      "Con la siguiente lista podemos saber cuántos vuelos alcanzan el tiempo máximo: \n"
     ]
    },
    {
     "data": {
      "text/plain": [
       "21    1\n",
       "Name: FlightNum, dtype: int64"
      ]
     },
     "execution_count": 263,
     "metadata": {},
     "output_type": "execute_result"
    }
   ],
   "source": [
    "# ¿Cuáles son los vuelos más largos (distancia)?\n",
    "print('Con la siguiente lista podemos analizar cuáles son los vuelos que recorren la mayor distancia: ')\n",
    "print(data_base_1.groupby('FlightNum')['Distance'].max().sort_values(ascending=False))\n",
    "print('\\n')\n",
    "print('Aquí podemos saber cuántos vuelos alcanzan la mayor distancia: ')\n",
    "distancia = data_base_1['Distance'] == data_base_1['Distance'].max()\n",
    "dist_data_base_1 = data_base_1[distancia]\n",
    "print(dist_data_base_1['FlightNum'].value_counts())\n",
    "print('\\n')\n",
    "# ¿Cuáles son los vuelos más largos (en tiempo)?\n",
    "print('Con la siguiente lista podemos analizar cuáles son los vuelos que duran más tiempo: ')\n",
    "print(data_base_1.groupby('FlightNum')['AirTime'].max().sort_values(ascending=False))\n",
    "print('\\n')\n",
    "print('Con la siguiente lista podemos saber cuántos vuelos alcanzan el tiempo máximo: ')\n",
    "time = data_base_1['AirTime'] == data_base_1['AirTime'].max()\n",
    "time_data_base_1 = data_base_1[time]\n",
    "time_data_base_1['FlightNum'].value_counts()\n"
   ]
  },
  {
   "cell_type": "code",
   "execution_count": 264,
   "id": "a505c4be",
   "metadata": {},
   "outputs": [
    {
     "data": {
      "text/plain": [
       "UniqueCarrier\n",
       "NW    2467.0\n",
       "MQ    1710.0\n",
       "AA    1521.0\n",
       "UA    1303.0\n",
       "FL    1206.0\n",
       "9E    1127.0\n",
       "CO    1011.0\n",
       "DL    1003.0\n",
       "OO     996.0\n",
       "EV     965.0\n",
       "HA     963.0\n",
       "OH     960.0\n",
       "AS     947.0\n",
       "US     886.0\n",
       "XE     859.0\n",
       "B6     846.0\n",
       "F9     817.0\n",
       "WN     668.0\n",
       "YV     607.0\n",
       "AQ     336.0\n",
       "Name: DepDelay, dtype: float64"
      ]
     },
     "execution_count": 264,
     "metadata": {},
     "output_type": "execute_result"
    }
   ],
   "source": [
    "# Aquí podemos ver el mayor retraso en la salida de los vuelos, para cada aerolínea\n",
    "data_base_2_clean.groupby('UniqueCarrier')['DepDelay'].max().sort_values(ascending=False)"
   ]
  },
  {
   "cell_type": "code",
   "execution_count": 265,
   "id": "e00231f2",
   "metadata": {},
   "outputs": [
    {
     "data": {
      "text/plain": [
       "FlightNum\n",
       "1699    2467.0\n",
       "808     2457.0\n",
       "1107    1952.0\n",
       "3538    1710.0\n",
       "357     1597.0\n",
       "         ...  \n",
       "6191       8.0\n",
       "7702       8.0\n",
       "7384       7.0\n",
       "6127       7.0\n",
       "7688       6.0\n",
       "Name: DepDelay, Length: 7498, dtype: float64"
      ]
     },
     "execution_count": 265,
     "metadata": {},
     "output_type": "execute_result"
    }
   ],
   "source": [
    "# Aquí podemos ver el mayor retraso en la salida con respecto a los vuelos\n",
    "data_base_2_clean.groupby('FlightNum')['DepDelay'].max().sort_values(ascending=False)"
   ]
  },
  {
   "cell_type": "code",
   "execution_count": 266,
   "id": "5e41314c",
   "metadata": {},
   "outputs": [
    {
     "data": {
      "text/plain": [
       "UniqueCarrier\n",
       "NW    2461.0\n",
       "MQ    1707.0\n",
       "AA    1525.0\n",
       "UA    1322.0\n",
       "FL    1175.0\n",
       "9E    1143.0\n",
       "HA    1050.0\n",
       "CO    1017.0\n",
       "DL    1007.0\n",
       "OO     990.0\n",
       "OH     955.0\n",
       "AS     948.0\n",
       "EV     940.0\n",
       "US     876.0\n",
       "XE     838.0\n",
       "B6     834.0\n",
       "F9     809.0\n",
       "WN     702.0\n",
       "YV     606.0\n",
       "AQ     338.0\n",
       "Name: ArrDelay, dtype: float64"
      ]
     },
     "execution_count": 266,
     "metadata": {},
     "output_type": "execute_result"
    }
   ],
   "source": [
    "# Aquí podemos ver el mayor retraso en la llegada de los vuelos, para cada aerolínea\n",
    "data_base_2_clean.groupby('UniqueCarrier')['ArrDelay'].max().sort_values(ascending=False)"
   ]
  },
  {
   "cell_type": "code",
   "execution_count": 267,
   "id": "e6dfa536",
   "metadata": {},
   "outputs": [
    {
     "data": {
      "text/plain": [
       "FlightNum\n",
       "808     2461.0\n",
       "1699    2453.0\n",
       "1107    1951.0\n",
       "3538    1707.0\n",
       "357     1655.0\n",
       "         ...  \n",
       "3385       5.0\n",
       "6893       4.0\n",
       "6191       2.0\n",
       "7384       2.0\n",
       "7688       1.0\n",
       "Name: ArrDelay, Length: 7498, dtype: float64"
      ]
     },
     "execution_count": 267,
     "metadata": {},
     "output_type": "execute_result"
    }
   ],
   "source": [
    "# Aquí podemos ver el mayor retraso en la llegada con respecto a los vuelos\n",
    "data_base_2_clean.groupby('FlightNum')['ArrDelay'].max().sort_values(ascending=False)"
   ]
  },
  {
   "cell_type": "code",
   "execution_count": 268,
   "id": "af776782",
   "metadata": {},
   "outputs": [
    {
     "name": "stdout",
     "output_type": "stream",
     "text": [
      "         AverageVelocity  DelayedFlight\n",
      "0               6.982759              0\n",
      "1               7.168142              1\n",
      "2               6.776316              1\n",
      "3               6.688312              1\n",
      "4               7.908046              1\n",
      "...                  ...            ...\n",
      "1936753         7.550000              1\n",
      "1936754         6.166667              1\n",
      "1936755         5.647541              1\n",
      "1936756         5.988764              1\n",
      "1936757         8.403846              0\n",
      "\n",
      "[1928364 rows x 2 columns]\n"
     ]
    }
   ],
   "source": [
    "# Velocidad media del vuelo\n",
    "data_base_3=data_base_1_clean.copy()\n",
    "data_base_3 = data_base_3[data_base_3['AirTime'] != 0]\n",
    "data_base_3=data_base_3.assign(AverageVelocity=lambda x: x.Distance /(x.AirTime))\n",
    "\n",
    "# ¿Vuelo retrasado?\n",
    "data_base_3=data_base_3.assign(DelayedFlight=np.where(data_base_3['ArrDelay']>0, 1, 0))\n",
    "print(data_base_3[['AverageVelocity','DelayedFlight']])\n"
   ]
  },
  {
   "cell_type": "code",
   "execution_count": 269,
   "id": "79feec2c",
   "metadata": {},
   "outputs": [
    {
     "data": {
      "text/plain": [
       "FlightNum\n",
       "9002      1.578947\n",
       "6916      3.368421\n",
       "6204      3.390244\n",
       "6188      3.722222\n",
       "7485      4.017544\n",
       "           ...    \n",
       "5466    267.000000\n",
       "602     274.000000\n",
       "5100    461.000000\n",
       "254     710.000000\n",
       "4200    932.000000\n",
       "Name: AverageVelocity, Length: 7498, dtype: float64"
      ]
     },
     "execution_count": 269,
     "metadata": {},
     "output_type": "execute_result"
    }
   ],
   "source": [
    "# Aquí podemos ver los vuelos con la velocidad media más grande\n",
    "data_base_3.groupby('FlightNum')['AverageVelocity'].max().sort_values()"
   ]
  },
  {
   "cell_type": "code",
   "execution_count": 270,
   "id": "e91a24bf",
   "metadata": {},
   "outputs": [
    {
     "name": "stdout",
     "output_type": "stream",
     "text": [
      "En la siguiente tabla podemos ver el número de vuelos retrasados acumulados para cada aerolínea:\n",
      "UniqueCarrier\n",
      "WN    376201\n",
      "AA    190910\n",
      "MQ    141223\n",
      "UA    140904\n",
      "OO    131774\n",
      "DL    113728\n",
      "XE    103146\n",
      "CO     99731\n",
      "US     98007\n",
      "EV     81762\n",
      "NW     78843\n",
      "FL     70969\n",
      "YV     66769\n",
      "B6     54925\n",
      "OH     52453\n",
      "9E     51569\n",
      "AS     39010\n",
      "F9     28224\n",
      "HA      7472\n",
      "AQ       744\n",
      "Name: DelayedFlight, dtype: int64\n",
      "\n",
      "\n",
      "Por lo tanto, South West es la aerolínea que presentó más retrasos, seguida de American Airlines la cual presentó poco más de la mitad que la primera.\n"
     ]
    }
   ],
   "source": [
    "#Taula de les aerolinínies amb més enderreriments acumulats \n",
    "print('En la siguiente tabla podemos ver el número de vuelos retrasados acumulados para cada aerolínea:')\n",
    "print(data_base_3.groupby('UniqueCarrier')['DelayedFlight'].size().sort_values(ascending=False))\n",
    "print('\\n')\n",
    "print('Por lo tanto, South West es la aerolínea que presentó más retrasos, seguida de American Airlines la cual presentó poco más de la mitad que la primera.')"
   ]
  },
  {
   "cell_type": "markdown",
   "id": "c061a32b",
   "metadata": {},
   "source": [
    "- [X] <span style=color:red><b>Exercici 3:</b></span>\n",
    "Exporta el dataset net i amb les noves columnes a Excel."
   ]
  },
  {
   "cell_type": "code",
   "execution_count": 271,
   "id": "e76884fb",
   "metadata": {},
   "outputs": [
    {
     "ename": "ValueError",
     "evalue": "This sheet is too large! Your sheet size is: 1936758, 30 Max sheet size is: 1048576, 16384",
     "output_type": "error",
     "traceback": [
      "\u001b[0;31m---------------------------------------------------------------------------\u001b[0m",
      "\u001b[0;31mValueError\u001b[0m                                Traceback (most recent call last)",
      "\u001b[0;32m/var/folders/3k/7pds9wx5375860hy6f9cx2vc0000gn/T/ipykernel_14409/2664714047.py\u001b[0m in \u001b[0;36m<module>\u001b[0;34m\u001b[0m\n\u001b[1;32m      1\u001b[0m \u001b[0;31m#ME lo marca como muy grande\u001b[0m\u001b[0;34m\u001b[0m\u001b[0;34m\u001b[0m\u001b[0m\n\u001b[1;32m      2\u001b[0m \u001b[0;34m\u001b[0m\u001b[0m\n\u001b[0;32m----> 3\u001b[0;31m \u001b[0mdata_base\u001b[0m\u001b[0;34m.\u001b[0m\u001b[0mto_excel\u001b[0m\u001b[0;34m(\u001b[0m\u001b[0;34m'data_base.xlsx'\u001b[0m\u001b[0;34m)\u001b[0m\u001b[0;34m\u001b[0m\u001b[0;34m\u001b[0m\u001b[0m\n\u001b[0m\u001b[1;32m      4\u001b[0m \u001b[0mdata_base_New\u001b[0m\u001b[0;34m.\u001b[0m\u001b[0mto_excel\u001b[0m\u001b[0;34m(\u001b[0m\u001b[0;34m'data_base_New.xlsx'\u001b[0m\u001b[0;34m,\u001b[0m \u001b[0mindex\u001b[0m\u001b[0;34m=\u001b[0m\u001b[0;32mFalse\u001b[0m\u001b[0;34m)\u001b[0m\u001b[0;34m\u001b[0m\u001b[0;34m\u001b[0m\u001b[0m\n",
      "\u001b[0;32m/Applications/anaconda3/lib/python3.9/site-packages/pandas/core/generic.py\u001b[0m in \u001b[0;36mto_excel\u001b[0;34m(self, excel_writer, sheet_name, na_rep, float_format, columns, header, index, index_label, startrow, startcol, engine, merge_cells, encoding, inf_rep, verbose, freeze_panes, storage_options)\u001b[0m\n\u001b[1;32m   2282\u001b[0m             \u001b[0minf_rep\u001b[0m\u001b[0;34m=\u001b[0m\u001b[0minf_rep\u001b[0m\u001b[0;34m,\u001b[0m\u001b[0;34m\u001b[0m\u001b[0;34m\u001b[0m\u001b[0m\n\u001b[1;32m   2283\u001b[0m         )\n\u001b[0;32m-> 2284\u001b[0;31m         formatter.write(\n\u001b[0m\u001b[1;32m   2285\u001b[0m             \u001b[0mexcel_writer\u001b[0m\u001b[0;34m,\u001b[0m\u001b[0;34m\u001b[0m\u001b[0;34m\u001b[0m\u001b[0m\n\u001b[1;32m   2286\u001b[0m             \u001b[0msheet_name\u001b[0m\u001b[0;34m=\u001b[0m\u001b[0msheet_name\u001b[0m\u001b[0;34m,\u001b[0m\u001b[0;34m\u001b[0m\u001b[0;34m\u001b[0m\u001b[0m\n",
      "\u001b[0;32m/Applications/anaconda3/lib/python3.9/site-packages/pandas/io/formats/excel.py\u001b[0m in \u001b[0;36mwrite\u001b[0;34m(self, writer, sheet_name, startrow, startcol, freeze_panes, engine, storage_options)\u001b[0m\n\u001b[1;32m    821\u001b[0m         \u001b[0mnum_rows\u001b[0m\u001b[0;34m,\u001b[0m \u001b[0mnum_cols\u001b[0m \u001b[0;34m=\u001b[0m \u001b[0mself\u001b[0m\u001b[0;34m.\u001b[0m\u001b[0mdf\u001b[0m\u001b[0;34m.\u001b[0m\u001b[0mshape\u001b[0m\u001b[0;34m\u001b[0m\u001b[0;34m\u001b[0m\u001b[0m\n\u001b[1;32m    822\u001b[0m         \u001b[0;32mif\u001b[0m \u001b[0mnum_rows\u001b[0m \u001b[0;34m>\u001b[0m \u001b[0mself\u001b[0m\u001b[0;34m.\u001b[0m\u001b[0mmax_rows\u001b[0m \u001b[0;32mor\u001b[0m \u001b[0mnum_cols\u001b[0m \u001b[0;34m>\u001b[0m \u001b[0mself\u001b[0m\u001b[0;34m.\u001b[0m\u001b[0mmax_cols\u001b[0m\u001b[0;34m:\u001b[0m\u001b[0;34m\u001b[0m\u001b[0;34m\u001b[0m\u001b[0m\n\u001b[0;32m--> 823\u001b[0;31m             raise ValueError(\n\u001b[0m\u001b[1;32m    824\u001b[0m                 \u001b[0;34mf\"This sheet is too large! Your sheet size is: {num_rows}, {num_cols} \"\u001b[0m\u001b[0;34m\u001b[0m\u001b[0;34m\u001b[0m\u001b[0m\n\u001b[1;32m    825\u001b[0m                 \u001b[0;34mf\"Max sheet size is: {self.max_rows}, {self.max_cols}\"\u001b[0m\u001b[0;34m\u001b[0m\u001b[0;34m\u001b[0m\u001b[0m\n",
      "\u001b[0;31mValueError\u001b[0m: This sheet is too large! Your sheet size is: 1936758, 30 Max sheet size is: 1048576, 16384"
     ]
    }
   ],
   "source": [
    "#ME lo marca como muy grande\n",
    "\n",
    "data_base.to_excel('data_base.xlsx')\n",
    "data_base_New.to_excel('data_base_New.xlsx', index=False)"
   ]
  },
  {
   "cell_type": "markdown",
   "id": "f832caae",
   "metadata": {},
   "source": [
    "___"
   ]
  },
  {
   "cell_type": "code",
   "execution_count": null,
   "id": "4de9d1b8",
   "metadata": {},
   "outputs": [],
   "source": []
  }
 ],
 "metadata": {
  "kernelspec": {
   "display_name": "Python 3 (ipykernel)",
   "language": "python",
   "name": "python3"
  },
  "language_info": {
   "codemirror_mode": {
    "name": "ipython",
    "version": 3
   },
   "file_extension": ".py",
   "mimetype": "text/x-python",
   "name": "python",
   "nbconvert_exporter": "python",
   "pygments_lexer": "ipython3",
   "version": "3.9.7"
  }
 },
 "nbformat": 4,
 "nbformat_minor": 5
}
