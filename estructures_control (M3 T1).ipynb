{
 "cells": [
  {
   "cell_type": "markdown",
   "id": "4e69130d",
   "metadata": {},
   "source": [
    "## <span style=color:red><b>Sprint 3</b></span> "
   ]
  },
  {
   "cell_type": "markdown",
   "id": "1055fdee",
   "metadata": {},
   "source": [
    "## <span style=color:red><b>Tasca M3 T01</b></span> \n",
    "### <span style=color:red><b>Descripció:</b></span> \n",
    "Exercicis de programació numèrica.\n",
    "\n",
    "_Enviar l'URL a un repositori anomenat estructures_control que contingui la solució. S'ha d'entregar cada exercici en un mateix fitxer i en un repositori._\n",
    "\n",
    "- [ ] <span style=color:red><b>__Exercici 1:__</b></span> \n",
    "Crea una funció que donat un Array d’una dimensió, et faci un resum estadístic bàsic de les dades. Si detecta que l’array té més d’una dimensió, ha de mostrar un missatge d’error.\n",
    "\n",
    "\n"
   ]
  },
  {
   "cell_type": "code",
   "execution_count": 70,
   "id": "bddc5940",
   "metadata": {},
   "outputs": [
    {
     "data": {
      "text/html": [
       "<div>\n",
       "<style scoped>\n",
       "    .dataframe tbody tr th:only-of-type {\n",
       "        vertical-align: middle;\n",
       "    }\n",
       "\n",
       "    .dataframe tbody tr th {\n",
       "        vertical-align: top;\n",
       "    }\n",
       "\n",
       "    .dataframe thead th {\n",
       "        text-align: right;\n",
       "    }\n",
       "</style>\n",
       "<table border=\"1\" class=\"dataframe\">\n",
       "  <thead>\n",
       "    <tr style=\"text-align: right;\">\n",
       "      <th></th>\n",
       "      <th>0</th>\n",
       "    </tr>\n",
       "  </thead>\n",
       "  <tbody>\n",
       "    <tr>\n",
       "      <th>count</th>\n",
       "      <td>9.000000</td>\n",
       "    </tr>\n",
       "    <tr>\n",
       "      <th>mean</th>\n",
       "      <td>1704.777778</td>\n",
       "    </tr>\n",
       "    <tr>\n",
       "      <th>std</th>\n",
       "      <td>3186.003758</td>\n",
       "    </tr>\n",
       "    <tr>\n",
       "      <th>min</th>\n",
       "      <td>3.000000</td>\n",
       "    </tr>\n",
       "    <tr>\n",
       "      <th>25%</th>\n",
       "      <td>14.000000</td>\n",
       "    </tr>\n",
       "    <tr>\n",
       "      <th>50%</th>\n",
       "      <td>109.000000</td>\n",
       "    </tr>\n",
       "    <tr>\n",
       "      <th>75%</th>\n",
       "      <td>1977.000000</td>\n",
       "    </tr>\n",
       "    <tr>\n",
       "      <th>max</th>\n",
       "      <td>9875.000000</td>\n",
       "    </tr>\n",
       "  </tbody>\n",
       "</table>\n",
       "</div>"
      ],
      "text/plain": [
       "                 0\n",
       "count     9.000000\n",
       "mean   1704.777778\n",
       "std    3186.003758\n",
       "min       3.000000\n",
       "25%      14.000000\n",
       "50%     109.000000\n",
       "75%    1977.000000\n",
       "max    9875.000000"
      ]
     },
     "execution_count": 70,
     "metadata": {},
     "output_type": "execute_result"
    }
   ],
   "source": [
    "import numpy as np\n",
    "import pandas as pd\n",
    "\n",
    "#Ésta es la función:\n",
    "def resum_estadist(arr):\n",
    "    if arr.ndim > 1:\n",
    "        print('Error')\n",
    "    else:\n",
    "        df_arr=pd.DataFrame(arr)\n",
    "        return df_arr.describe()\n",
    "\n",
    "#Éste es un ejemplo\n",
    "\n",
    "arrr = np.array([109, 2098, 3, 14, 9875, 1234, 27, 6, 1977])\n",
    "resum_estadist(arrr)"
   ]
  },
  {
   "cell_type": "markdown",
   "id": "da8536d3",
   "metadata": {},
   "source": [
    "- [ ] <span style=color:red><b>__Exercici 2:__</b></span>\n",
    "Crea una funció que et generi un quadrat NxN de nombres aleatoris entre el 0 i el 100.\n"
   ]
  },
  {
   "cell_type": "code",
   "execution_count": 51,
   "id": "a0c3648e",
   "metadata": {},
   "outputs": [],
   "source": [
    "def quadrat_NxN(n):\n",
    "    quadrat=np.random.randint(0,101, size=(n,n))\n",
    "    return quadrat"
   ]
  },
  {
   "cell_type": "markdown",
   "id": "c35ffe4a",
   "metadata": {},
   "source": [
    "- [ ] <span style=color:red><b>Exercici 3:</b></span>\n",
    "Crea una funció que donada una taula de dues dimensions (NxM), et calculi els totals per fila i els totals per columna."
   ]
  },
  {
   "cell_type": "code",
   "execution_count": 52,
   "id": "4101d5d8",
   "metadata": {},
   "outputs": [
    {
     "name": "stdout",
     "output_type": "stream",
     "text": [
      "Los totales por columna son:\n",
      "0    9984\n",
      "1    3332\n",
      "2      30\n",
      "3      20\n",
      "dtype: int64\n",
      "Los totales por fila son:\n",
      "0     2224\n",
      "1    11142\n",
      "dtype: int64\n"
     ]
    }
   ],
   "source": [
    "#Ésta es la función:\n",
    "def suma(taula):\n",
    "    print('Los totales por columna son:')\n",
    "    print(taula.sum(axis=0))\n",
    "    print('Los totales por fila son:')\n",
    "    print(taula.sum(axis=1))\n",
    "\n",
    "#Éste es un ejemplo\n",
    "arrr = np.array([[109, 2098, 3, 14],[9875, 1234, 27, 6]])\n",
    "df_arrr=pd.DataFrame(arrr)\n",
    "suma(df_arrr)"
   ]
  },
  {
   "cell_type": "markdown",
   "id": "357bc7f2",
   "metadata": {},
   "source": [
    "- [ ] <span style=color:red><b>Exercici 4:</b></span>\n",
    "Implementa manualment una funció que calculi el coeficient de correlació. Informa-te'n sobre els seus usos i interpretació."
   ]
  },
  {
   "cell_type": "code",
   "execution_count": 76,
   "id": "eb046f19",
   "metadata": {},
   "outputs": [
    {
     "name": "stdout",
     "output_type": "stream",
     "text": [
      "0.5257894453342424\n"
     ]
    },
    {
     "data": {
      "text/html": [
       "<div>\n",
       "<style scoped>\n",
       "    .dataframe tbody tr th:only-of-type {\n",
       "        vertical-align: middle;\n",
       "    }\n",
       "\n",
       "    .dataframe tbody tr th {\n",
       "        vertical-align: top;\n",
       "    }\n",
       "\n",
       "    .dataframe thead th {\n",
       "        text-align: right;\n",
       "    }\n",
       "</style>\n",
       "<table border=\"1\" class=\"dataframe\">\n",
       "  <thead>\n",
       "    <tr style=\"text-align: right;\">\n",
       "      <th></th>\n",
       "      <th>0</th>\n",
       "      <th>1</th>\n",
       "    </tr>\n",
       "  </thead>\n",
       "  <tbody>\n",
       "    <tr>\n",
       "      <th>0</th>\n",
       "      <td>1.000000</td>\n",
       "      <td>0.525789</td>\n",
       "    </tr>\n",
       "    <tr>\n",
       "      <th>1</th>\n",
       "      <td>0.525789</td>\n",
       "      <td>1.000000</td>\n",
       "    </tr>\n",
       "  </tbody>\n",
       "</table>\n",
       "</div>"
      ],
      "text/plain": [
       "          0         1\n",
       "0  1.000000  0.525789\n",
       "1  0.525789  1.000000"
      ]
     },
     "execution_count": 76,
     "metadata": {},
     "output_type": "execute_result"
    }
   ],
   "source": [
    "import math\n",
    "\n",
    "# Ésta es la función\n",
    "def coef_correlacio(taula):\n",
    "    suma=0\n",
    "    suma_x2=0\n",
    "    suma_y2=0\n",
    "    for i in range(0,len(taula.axes[0])):\n",
    "        suma=suma+((taula[0])[i]-taula[0].mean())*((taula[1])[i]-taula[1].mean())\n",
    "        suma_x2=suma_x2+ pow((taula[0])[i]-taula[0].mean(),2)\n",
    "        suma_y2=suma_y2+ pow((taula[1])[i]-taula[1].mean(),2)\n",
    "    r_xy=(suma)/((math.sqrt(suma_x2))*(math.sqrt(suma_y2)))\n",
    "    return r_xy\n",
    "\n",
    "# Esto sólo fue para ver que sí funciona\n",
    "def quadrat_NxM(n,m):\n",
    "    quadrat=np.random.randint(0,101, size=(n,m))\n",
    "    return quadrat\n",
    "quadrat=quadrat_NxM(13,2)\n",
    "df_quadrat=pd.DataFrame(quadrat)\n",
    "print(coef_correlacio(df_quadrat))\n",
    "df_quadrat.corr()"
   ]
  },
  {
   "cell_type": "code",
   "execution_count": null,
   "id": "3453fe97",
   "metadata": {},
   "outputs": [],
   "source": []
  }
 ],
 "metadata": {
  "kernelspec": {
   "display_name": "Python 3 (ipykernel)",
   "language": "python",
   "name": "python3"
  },
  "language_info": {
   "codemirror_mode": {
    "name": "ipython",
    "version": 3
   },
   "file_extension": ".py",
   "mimetype": "text/x-python",
   "name": "python",
   "nbconvert_exporter": "python",
   "pygments_lexer": "ipython3",
   "version": "3.9.7"
  }
 },
 "nbformat": 4,
 "nbformat_minor": 5
}
